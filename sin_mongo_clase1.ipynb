{
  "nbformat": 4,
  "nbformat_minor": 0,
  "metadata": {
    "colab": {
      "name": "Copia de 1_Run_MongoDB_in_colab.ipynb",
      "provenance": [],
      "collapsed_sections": [],
      "include_colab_link": true
    },
    "kernelspec": {
      "display_name": "Python 3",
      "language": "python",
      "name": "python3"
    }
  },
  "cells": [
    {
      "cell_type": "markdown",
      "metadata": {
        "id": "view-in-github",
        "colab_type": "text"
      },
      "source": [
        "<a href=\"https://colab.research.google.com/github/vanessagirondaaquize/sin_mongo/blob/main/sin_mongo_clase1.ipynb\" target=\"_parent\"><img src=\"https://colab.research.google.com/assets/colab-badge.svg\" alt=\"Open In Colab\"/></a>"
      ]
    },
    {
      "cell_type": "markdown",
      "metadata": {
        "id": "kOmt80VpVa2W"
      },
      "source": [
        "# Introduccion to MongoDB"
      ]
    },
    {
      "cell_type": "markdown",
      "metadata": {
        "id": "oy8y1i4jl-Ce"
      },
      "source": [
        "Se instalará Mongo ṕara propositos de aprendizaje. \n",
        "Todos los datos son borrados pasados las 12 horas.\n",
        "Si se necesita un servidor persistente de Mongo, es necesario instalarlo localmente o otra opcion es ATLAS. \n",
        "Instalacion local: [local](http://www.google.com/search?q=mongodb+download+community+server&btnI) \n",
        "Instalacion atlas. [atlas](https://cloud.mongodb.com/v2/614b49191feecf4213aba45d#clusters)\n"
      ]
    },
    {
      "cell_type": "code",
      "metadata": {
        "id": "d_W8Zhl_nYBA",
        "colab": {
          "base_uri": "https://localhost:8080/"
        },
        "outputId": "d3c3d8a6-4184-4701-edee-468d058d5e69"
      },
      "source": [
        "# Instalacion de MongoDB \n",
        "!wget https://fastdl.mongodb.org/linux/mongodb-linux-x86_64-debian71-3.0.15.tgz  # Downloads MongoDB from official repository\n",
        "!tar xfv mongodb-linux-x86_64-debian71-3.0.15.tgz     # Unpack compressed file\n",
        "!rm mongodb-linux-x86_64-debian71-3.0.15.tgz          # Removes downloaded file\n",
        "\n",
        "# Localidad de la base de datos \"/data/db\" \n",
        "!mkdir /data                                          # data folder creation \n",
        "!mkdir /data/db                                       # db folder creation inside data"
      ],
      "execution_count": 1,
      "outputs": [
        {
          "output_type": "stream",
          "name": "stdout",
          "text": [
            "--2021-09-22 18:33:46--  https://fastdl.mongodb.org/linux/mongodb-linux-x86_64-debian71-3.0.15.tgz\n",
            "Resolving fastdl.mongodb.org (fastdl.mongodb.org)... 13.226.237.101, 13.226.237.33, 13.226.237.3, ...\n",
            "Connecting to fastdl.mongodb.org (fastdl.mongodb.org)|13.226.237.101|:443... connected.\n",
            "HTTP request sent, awaiting response... 200 OK\n",
            "Length: 70878938 (68M) [application/x-gzip]\n",
            "Saving to: ‘mongodb-linux-x86_64-debian71-3.0.15.tgz’\n",
            "\n",
            "mongodb-linux-x86_6 100%[===================>]  67.59M  90.5MB/s    in 0.7s    \n",
            "\n",
            "2021-09-22 18:33:47 (90.5 MB/s) - ‘mongodb-linux-x86_64-debian71-3.0.15.tgz’ saved [70878938/70878938]\n",
            "\n",
            "mongodb-linux-x86_64-debian71-3.0.15/README\n",
            "mongodb-linux-x86_64-debian71-3.0.15/THIRD-PARTY-NOTICES\n",
            "mongodb-linux-x86_64-debian71-3.0.15/GNU-AGPL-3.0\n",
            "mongodb-linux-x86_64-debian71-3.0.15/bin/mongodump\n",
            "mongodb-linux-x86_64-debian71-3.0.15/bin/mongorestore\n",
            "mongodb-linux-x86_64-debian71-3.0.15/bin/mongoexport\n",
            "mongodb-linux-x86_64-debian71-3.0.15/bin/mongoimport\n",
            "mongodb-linux-x86_64-debian71-3.0.15/bin/mongostat\n",
            "mongodb-linux-x86_64-debian71-3.0.15/bin/mongotop\n",
            "mongodb-linux-x86_64-debian71-3.0.15/bin/bsondump\n",
            "mongodb-linux-x86_64-debian71-3.0.15/bin/mongofiles\n",
            "mongodb-linux-x86_64-debian71-3.0.15/bin/mongooplog\n",
            "mongodb-linux-x86_64-debian71-3.0.15/bin/mongoperf\n",
            "mongodb-linux-x86_64-debian71-3.0.15/bin/mongosniff\n",
            "mongodb-linux-x86_64-debian71-3.0.15/bin/mongod\n",
            "mongodb-linux-x86_64-debian71-3.0.15/bin/mongos\n",
            "mongodb-linux-x86_64-debian71-3.0.15/bin/mongo\n",
            "mkdir: cannot create directory ‘/data’: File exists\n",
            "mkdir: cannot create directory ‘/data/db’: File exists\n"
          ]
        }
      ]
    },
    {
      "cell_type": "code",
      "metadata": {
        "id": "fYbMpReoBlQj",
        "colab": {
          "base_uri": "https://localhost:8080/"
        },
        "outputId": "28351e52-f5ca-4f67-c4d9-1408824d76ae"
      },
      "source": [
        "# Correr mongoDB server\n",
        "!mongodb-linux-x86_64-debian71-3.0.15/bin/mongod --nojournal --dbpath /data/db\n",
        "#!mongodb-linux-x86_64-debian71-3.0.15/bin/mongod --nojournal --port 27017 --dbpath=/data/db --fork --logpath=/data/db/mongodb.log\n",
        "\n",
        "#  --nojournal : disables journal and allows to run Mongo in Colab enviroment (reducing memory usage ) (Warning!!! Journal prevents incompleted data writes and data corruption)\n",
        "#  --port      : defines the port where mongoDB will run\n",
        "#  --dbpath    : defines the location of database folder, by default : /data/db\n",
        "#  --fork      : runs mongoDB in background\n",
        "#  --logpath   : defines the location and name of log file, by default : /data/db/mongodb.log\n",
        "#  --directoryperdb : mongodb will store databases in folder structure\n",
        "#  --wiredTigerDirectoryForIndexes : mongodb will store collections and indexes in folder structure \n",
        "#                                    (allows to create simbolic links and store collections and indexes in independent disks)"
      ],
      "execution_count": 2,
      "outputs": [
        {
          "output_type": "stream",
          "name": "stdout",
          "text": [
            "2021-09-22T18:33:54.355+0000 I CONTROL  [initandlisten] MongoDB starting : pid=7209 port=27017 dbpath=/data/db 64-bit host=90fc3dde217f\n",
            "2021-09-22T18:33:54.355+0000 I CONTROL  [initandlisten] db version v3.0.15\n",
            "2021-09-22T18:33:54.355+0000 I CONTROL  [initandlisten] git version: b8ff507269c382bc100fc52f75f48d54cd42ec3b\n",
            "2021-09-22T18:33:54.355+0000 I CONTROL  [initandlisten] build info: Linux ip-10-166-66-3 3.2.0-4-amd64 #1 SMP Debian 3.2.46-1 x86_64 BOOST_LIB_VERSION=1_49\n",
            "2021-09-22T18:33:54.355+0000 I CONTROL  [initandlisten] allocator: tcmalloc\n",
            "2021-09-22T18:33:54.355+0000 I CONTROL  [initandlisten] options: { storage: { dbPath: \"/data/db\", journal: { enabled: false } } }\n",
            "2021-09-22T18:33:54.657+0000 I CONTROL  [initandlisten] ** WARNING: You are running this process as the root user, which is not recommended.\n",
            "2021-09-22T18:33:54.657+0000 I CONTROL  [initandlisten] \n",
            "2021-09-22T18:33:54.660+0000 I NETWORK  [initandlisten] waiting for connections on port 27017\n",
            "mongod\n",
            "exit\n",
            "2021-09-22T18:35:17.238+0000 I CONTROL  [signalProcessingThread] got signal 2 (Interrupt), will terminate after current cmd ends\n",
            "2021-09-22T18:35:17.238+0000 I CONTROL  [signalProcessingThread] now exiting\n",
            "2021-09-22T18:35:17.238+0000 I NETWORK  [signalProcessingThread] shutdown: going to close listening sockets...\n",
            "2021-09-22T18:35:17.238+0000 I NETWORK  [signalProcessingThread] closing listening socket: 5\n",
            "2021-09-22T18:35:17.238+0000 I NETWORK  [signalProcessingThread] closing listening socket: 6\n",
            "2021-09-22T18:35:17.238+0000 I NETWORK  [signalProcessingThread] removing socket file: /tmp/mongodb-27017.sock\n",
            "2021-09-22T18:35:17.238+0000 I NETWORK  [signalProcessingThread] shutdown: going to flush diaglog...\n",
            "2021-09-22T18:35:17.238+0000 I NETWORK  [signalProcessingThread] shutdown: going to close sockets...\n",
            "2021-09-22T18:35:17.238+0000 I STORAGE  [signalProcessingThread] shutdown: waiting for fs preallocator...\n",
            "2021-09-22T18:35:17.238+0000 I STORAGE  [signalProcessingThread] shutdown: closing all files...\n",
            "2021-09-22T18:35:17.239+0000 I STORAGE  [signalProcessingThread] closeAllFiles() finished\n",
            "2021-09-22T18:35:17.239+0000 I STORAGE  [signalProcessingThread] shutdown: removing fs lock...\n",
            "2021-09-22T18:35:17.239+0000 I CONTROL  [signalProcessingThread] dbexit:  rc: 0\n"
          ]
        }
      ]
    },
    {
      "cell_type": "code",
      "metadata": {
        "colab": {
          "base_uri": "https://localhost:8080/"
        },
        "id": "p0n2IRLMnYsW",
        "outputId": "0b927674-02b5-4d28-b20e-00b38ca87b1b"
      },
      "source": [
        "!wget https://downloads.mongodb.com/compass/mongodb-mongosh_1.0.6_amd64.deb\n",
        "!dpkg -i mongodb-mongosh_1.0.6_amd64.deb\n"
      ],
      "execution_count": 4,
      "outputs": [
        {
          "output_type": "stream",
          "name": "stdout",
          "text": [
            "--2021-09-22 18:36:07--  https://downloads.mongodb.com/compass/mongodb-mongosh_1.0.6_amd64.deb\n",
            "Resolving downloads.mongodb.com (downloads.mongodb.com)... 13.35.89.49, 13.35.89.10, 13.35.89.56, ...\n",
            "Connecting to downloads.mongodb.com (downloads.mongodb.com)|13.35.89.49|:443... connected.\n",
            "HTTP request sent, awaiting response... 200 OK\n",
            "Length: 41494132 (40M) [application/octet-stream]\n",
            "Saving to: ‘mongodb-mongosh_1.0.6_amd64.deb.2’\n",
            "\n",
            "mongodb-mongosh_1.0 100%[===================>]  39.57M  66.4MB/s    in 0.6s    \n",
            "\n",
            "2021-09-22 18:36:07 (66.4 MB/s) - ‘mongodb-mongosh_1.0.6_amd64.deb.2’ saved [41494132/41494132]\n",
            "\n",
            "(Reading database ... 155069 files and directories currently installed.)\n",
            "Preparing to unpack mongodb-mongosh_1.0.6_amd64.deb ...\n",
            "Unpacking mongodb-mongosh (1.0.6) over (1.0.6) ...\n",
            "Setting up mongodb-mongosh (1.0.6) ...\n"
          ]
        }
      ]
    },
    {
      "cell_type": "code",
      "metadata": {
        "colab": {
          "base_uri": "https://localhost:8080/"
        },
        "id": "_rxpVM0YzNI-",
        "outputId": "2f2f9513-687e-4af6-ed0b-0e3a074b009f"
      },
      "source": [
        "!mongosh --help"
      ],
      "execution_count": 5,
      "outputs": [
        {
          "output_type": "stream",
          "name": "stdout",
          "text": [
            "\n",
            "  \u001b[1m$ mongosh [options] [db address] [file names (ending in .js or .mongodb)]\u001b[0m\n",
            "\n",
            "  \u001b[1m\u001b[33mOptions:\u001b[0m\n",
            "\n",
            "    -h, --help                                 Show this usage information\n",
            "    -f, --file [arg]                           Load the specified mongosh script\n",
            "        --host [arg]                           Server to connect to\n",
            "        --port [arg]                           Port to connect to\n",
            "        --version                              Show version information\n",
            "        --verbose                              Increase the verbosity of the output of the shell\n",
            "        --quiet                                Silence output from the shell during the connection process\n",
            "        --shell                                Run the shell after executing files\n",
            "        --nodb                                 Don't connect to mongod on startup - no 'db address' [arg] expected\n",
            "        --norc                                 Will not run the '.mongoshrc.js' file on start up\n",
            "        --eval [arg]                           Evaluate javascript\n",
            "        --retryWrites                          Automatically retry write operations upon transient network errors\n",
            "\n",
            "  \u001b[1m\u001b[33mAuthentication Options:\u001b[0m\n",
            "\n",
            "    -u, --username [arg]                       Username for authentication\n",
            "    -p, --password [arg]                       Password for authentication\n",
            "        --authenticationDatabase [arg]         User source (defaults to dbname)\n",
            "        --authenticationMechanism [arg]        Authentication mechanism\n",
            "        --awsIamSessionToken [arg]             AWS IAM Temporary Session Token ID\n",
            "        --gssapiServiceName [arg]              Service name to use when authenticating using GSSAPI/Kerberos\n",
            "        --sspiHostnameCanonicalization [arg]   Specify the SSPI hostname canonicalization (none or forward, available on Windows)\n",
            "        --sspiRealmOverride [arg]              Specify the SSPI server realm (available on Windows)\n",
            "\n",
            "  \u001b[1m\u001b[33mTLS Options:\u001b[0m\n",
            "\n",
            "        --tls                                  Use TLS for all connections\n",
            "        --tlsCertificateKeyFile [arg]          PEM certificate/key file for TLS\n",
            "        --tlsCertificateKeyFilePassword [arg]  Password for key in PEM file for TLS\n",
            "        --tlsCAFile [arg]                      Certificate Authority file for TLS\n",
            "        --tlsAllowInvalidHostnames             Allow connections to servers with non-matching hostnames\n",
            "        --tlsAllowInvalidCertificates          Allow connections to servers with invalid certificates\n",
            "        --tlsCertificateSelector [arg]         TLS Certificate in system store (Windows and macOS only)\n",
            "        --tlsCRLFile [arg]                     Specifies the .pem file that contains the Certificate Revocation List\n",
            "        --tlsDisabledProtocols [arg]           Comma separated list of TLS protocols to disable [TLS1_0,TLS1_1,TLS1_2]\n",
            "\n",
            "  \u001b[1m\u001b[33mAPI version options:\u001b[0m\n",
            "\n",
            "        --apiVersion [arg]                     Specifies the API version to connect with\n",
            "        --apiStrict                            Use strict API version mode\n",
            "        --apiDeprecationErrors                 Fail deprecated commands for the specified API version\n",
            "\n",
            "  \u001b[1m\u001b[33mFLE Options:\u001b[0m\n",
            "\n",
            "        --awsAccessKeyId [arg]                 AWS Access Key for FLE Amazon KMS\n",
            "        --awsSecretAccessKey [arg]             AWS Secret Key for FLE Amazon KMS\n",
            "        --awsSessionToken [arg]                Optional AWS Session Token ID\n",
            "        --keyVaultNamespace [arg]              database.collection to store encrypted FLE parameters\n",
            "        --kmsURL [arg]                         Test parameter to override the URL of the KMS endpoint\n",
            "\n",
            "  \u001b[1m\u001b[33mDB Address Examples:\u001b[0m\n",
            "\n",
            "        foo                                    Foo database on local machine\n",
            "        192.168.0.5/foo                        Foo database on 192.168.0.5 machine\n",
            "        192.168.0.5:9999/foo                   Foo database on 192.168.0.5 machine on port 9999\n",
            "        mongodb://192.168.0.5:9999/foo         Connection string URI can also be used\n",
            "\n",
            "  \u001b[1m\u001b[33mFile Names:\u001b[0m\n",
            "\n",
            "        A list of files to run. Files must end in .js and will exit after unless --shell is specified.\n",
            "\n",
            "  \u001b[1m\u001b[33mExamples:\u001b[0m\n",
            "\n",
            "        Start mongosh using 'ships' database on specified connection string:\n",
            "        \u001b[32m$ mongosh mongodb://192.168.0.5:9999/ships\u001b[0m\n",
            "\n",
            "  \u001b[1mFor more information on usage:\u001b[0m \u001b[32mhttps://docs.mongodb.com/mongodb-shell\u001b[0m.\n"
          ]
        }
      ]
    },
    {
      "cell_type": "code",
      "metadata": {
        "colab": {
          "base_uri": "https://localhost:8080/"
        },
        "id": "p3w5DnTjyvbX",
        "outputId": "f55f38d8-6712-4c0c-9d0e-4fe45df36dee"
      },
      "source": [
        "!mongosh \"mongodb+srv://cluster0.31oxd.mongodb.net/atlas_dominio_facturita\" --username mongo -p mongo"
      ],
      "execution_count": 11,
      "outputs": [
        {
          "output_type": "stream",
          "name": "stdout",
          "text": [
            "\u001b]0;mongosh mongodb+srv://cluster0.31oxd.mongodb.net/atlas_dominio_facturita\u0007Current Mongosh Log ID:\t614b79a3fd5e0b09e2f28e65\n",
            "Connecting to:\t\t\u001b[1m\u001b[32mmongodb+srv://cluster0.31oxd.mongodb.net/atlas_dominio_facturita\u001b[0m\n",
            "Using MongoDB:\t\t4.4.9\n",
            "\u001b[1m\u001b[33mUsing Mongosh\u001b[0m:\t\t1.0.6\n",
            "\n",
            "For mongosh info see: \u001b[1mhttps://docs.mongodb.com/mongodb-shell/\u001b[0m\n",
            "\n",
            "\u001b[1G\u001b[0J \u001b[1G\u001b[1G\u001b[0JAtlas atlas-uf2g56-shard-0 [primary] atlas_dominio_facturita> \u001b[63Gshow d\b\u001b[36mdo\u001b[39m\b\bdocumen\b\b\b\b\b\b\b\u001b[36mdocument\u001b[39m\b\b\b\b\b\b\b\bdocuments;\n",
            "\u001b[1m\u001b[31mMongoshInvalidInputError\u001b[0m: [COMMON-10001] 'documents' is not a valid argument for \"show\".\n",
            "\u001b[1G\u001b[0JAtlas atlas-uf2g56-shard-0 [primary] atlas_dominio_facturita> \u001b[63Gshow databases;\n",
            "\u001b[1matlas_dominio_facturita\u001b[0m    41 kB\n",
            "\u001b[1msample_airbnb\u001b[0m            55.1 MB\n",
            "\u001b[1msample_analytics\u001b[0m          9.9 MB\n",
            "\u001b[1msample_geospatial\u001b[0m        1.01 MB\n",
            "\u001b[1msample_mflix\u001b[0m             49.8 MB\n",
            "\u001b[1msample_restaurants\u001b[0m       6.59 MB\n",
            "\u001b[1msample_supplies\u001b[0m           991 kB\n",
            "\u001b[1msample_training\u001b[0m            47 MB\n",
            "\u001b[1msample_weatherdata\u001b[0m       2.49 MB\n",
            "\u001b[1madmin\u001b[0m                     344 kB\n",
            "\u001b[1mlocal\u001b[0m                    3.41 GB\n",
            "\u001b[1G\u001b[0JAtlas atlas-uf2g56-shard-0 [primary] atlas_dominio_facturita> \u001b[63Guse atlas_dominio_facturita;\n",
            "already on db atlas_dominio_facturita\n",
            "\u001b[1G\u001b[0JAtlas atlas-uf2g56-shard-0 [primary] atlas_dominio_facturita> \u001b[63G^C\n"
          ]
        }
      ]
    },
    {
      "cell_type": "code",
      "metadata": {
        "colab": {
          "base_uri": "https://localhost:8080/"
        },
        "id": "lFPCsNMqzVWO",
        "outputId": "de25316f-6f6e-411f-e3c1-9b568c6d4d9d"
      },
      "source": [
        "!mongosh --host 973ec0f52298  --port 27017 "
      ],
      "execution_count": 14,
      "outputs": [
        {
          "output_type": "stream",
          "name": "stdout",
          "text": [
            "\u001b]0;mongosh mongodb://973ec0f52298:27017/?directConnection=true\u0007Current Mongosh Log ID:\t614b7e9a432ea4a6bf19cddb\n",
            "Connecting to:\t\t\u001b[1m\u001b[32mmongodb://973ec0f52298:27017/?directConnection=true\u001b[0m\n",
            "MongoNetworkError: getaddrinfo ENOTFOUND 973ec0f52298\n"
          ]
        }
      ]
    }
  ]
}